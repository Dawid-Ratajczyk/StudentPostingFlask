{
 "cells": [
  {
   "metadata": {
    "ExecuteTime": {
     "end_time": "2025-08-13T21:14:02.984105Z",
     "start_time": "2025-08-13T21:14:02.979737Z"
    }
   },
   "cell_type": "code",
   "source": [
    "import requests\n",
    "\n",
    "API_KEY = ''"
   ],
   "id": "944c20280dd74f64",
   "outputs": [],
   "execution_count": 10
  },
  {
   "metadata": {
    "collapsed": true,
    "ExecuteTime": {
     "end_time": "2025-08-13T21:14:03.044039Z",
     "start_time": "2025-08-13T21:14:03.037382Z"
    }
   },
   "cell_type": "code",
   "source": [
    "def prompt(content):\n",
    "    url = \"https://api.openai.com/v1/chat/completions\"\n",
    "    headers = {\n",
    "        \"Authorization\": f\"Bearer {API_KEY}\",\n",
    "        \"Content-Type\": \"application/json\"\n",
    "    }\n",
    "    data = {\n",
    "        \"model\": \"gpt-4o-mini\",  # or gpt-4o, gpt-3.5-turbo, etc.\n",
    "        \"messages\": [\n",
    "            {\"role\": \"user\", \"content\": content}\n",
    "        ],\n",
    "        \"temperature\": 0.7\n",
    "    }\n",
    "\n",
    "    response = requests.post(url, headers=headers, json=data)\n",
    "\n",
    "    if response.status_code == 200:\n",
    "        result = response.json()\n",
    "        print(result[\"choices\"][0][\"message\"][\"content\"])\n",
    "    else:\n",
    "        print(f\"Error {response.status_code}: {response.text}\")\n"
   ],
   "id": "6f8288cb4270643c",
   "outputs": [],
   "execution_count": 11
  },
  {
   "metadata": {
    "ExecuteTime": {
     "end_time": "2025-08-13T21:14:08.700609Z",
     "start_time": "2025-08-13T21:14:03.098716Z"
    }
   },
   "cell_type": "code",
   "source": [
    "# Retrieve `all_posts` once\n",
    "all_posts = requests.get('https://studentposting.pl/api/post')\n",
    "# Create list of Post contents\n",
    "text_contents = \"\\n\".join([x['tresc'] for x in all_posts.json()])\n",
    "prompt_txt = f\"Podsumuj treści postów stworzonych przez studentów. Każda nowa treść jest w nowej linii \\n {text_contents}\"\n",
    "\n",
    "prompt(prompt_txt)"
   ],
   "id": "42fbe3f24ef1fd1d",
   "outputs": [
    {
     "name": "stdout",
     "output_type": "stream",
     "text": [
      "Studenci przedstawili różne tematy związane z ich obowiązkami, w tym:\n",
      "\n",
      "- Przygotowanie wydarzenia w formule CTF (Capture The Flag), co sugeruje, że uczestniczą w organizacji lub wsparciu technicznym dla tego typu imprez.\n",
      "- Wspomnieli o administracji, co może odnosić się do zarządzania systemami, infrastrukturą IT lub organizacji wydarzeń.\n",
      "- Zajmują się prostymi analizami sieciowymi oraz OSINT (Open Source Intelligence), co wskazuje na ich umiejętności w zakresie zbierania i analizy danych z dostępnych źródeł.\n",
      "\n",
      "Na koniec, jedna z osób pozdrawia pozytywnie nastawionych znajomych z Radomia.\n"
     ]
    }
   ],
   "execution_count": 12
  },
  {
   "metadata": {
    "ExecuteTime": {
     "end_time": "2025-08-13T21:14:08.777497Z",
     "start_time": "2025-08-13T21:14:08.775068Z"
    }
   },
   "cell_type": "code",
   "source": "",
   "id": "c0eec6adb16d00af",
   "outputs": [],
   "execution_count": null
  }
 ],
 "metadata": {
  "kernelspec": {
   "display_name": "Python 3",
   "language": "python",
   "name": "python3"
  },
  "language_info": {
   "codemirror_mode": {
    "name": "ipython",
    "version": 2
   },
   "file_extension": ".py",
   "mimetype": "text/x-python",
   "name": "python",
   "nbconvert_exporter": "python",
   "pygments_lexer": "ipython2",
   "version": "2.7.6"
  }
 },
 "nbformat": 4,
 "nbformat_minor": 5
}
